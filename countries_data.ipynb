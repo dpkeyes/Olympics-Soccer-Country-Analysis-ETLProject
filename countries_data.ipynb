{
 "cells": [
  {
   "cell_type": "code",
   "execution_count": null,
   "metadata": {},
   "outputs": [],
   "source": [
    "# import libraries\n",
    "import pandas as pd"
   ]
  },
  {
   "cell_type": "code",
   "execution_count": null,
   "metadata": {},
   "outputs": [],
   "source": [
    "# import data\n",
    "data_file = './data/WDI/WDIData.csv'\n",
    "df = pd.read_csv(data_file)"
   ]
  },
  {
   "cell_type": "code",
   "execution_count": null,
   "metadata": {},
   "outputs": [],
   "source": [
    "print(df.shape)\n",
    "df.head(5)"
   ]
  },
  {
   "cell_type": "code",
   "execution_count": null,
   "metadata": {},
   "outputs": [],
   "source": [
    "# inspect indicators\n",
    "for i in df['Indicator Name'].unique():\n",
    "    print(i)"
   ]
  },
  {
   "cell_type": "code",
   "execution_count": null,
   "metadata": {},
   "outputs": [],
   "source": [
    "indicators = ['GDP growth (annual %)', 'GDP per capita (current US$)', 'GDP per capita growth (annual %)', 'GINI index (World Bank estimate)', 'Population density (people per sq. km of land area)', 'Population growth (annual %)', 'Population, total']\n",
    "indicators"
   ]
  },
  {
   "cell_type": "code",
   "execution_count": null,
   "metadata": {},
   "outputs": [],
   "source": [
    "# filter dataset to keep only indicators of interest\n",
    "df_subset = df[df['Indicator Name'].isin(indicators)]\n",
    "df_subset.head(10)"
   ]
  },
  {
   "cell_type": "markdown",
   "metadata": {},
   "source": [
    "one table per indicator (two indicators) one row per year...field names, country_name, country_code, year, indicator_value"
   ]
  },
  {
   "cell_type": "code",
   "execution_count": null,
   "metadata": {},
   "outputs": [],
   "source": [
    "# Drop unnecessary column\n",
    "df_subset.drop('Indicator Code', axis=1, inplace=True)\n",
    "df_subset[df_subset['Country Code'] == 'USA'].head(5)"
   ]
  },
  {
   "cell_type": "code",
   "execution_count": null,
   "metadata": {
    "scrolled": true
   },
   "outputs": [],
   "source": [
    "# Use melt to transform array of years (1960-2018) to rows (one row per year per indicator)\n",
    "df_melt = df_subset.melt(id_vars=[\"Country Name\", \"Country Code\", \"Indicator Name\"], \n",
    "        var_name=\"Date\", \n",
    "        value_name=\"Value\")"
   ]
  },
  {
   "cell_type": "code",
   "execution_count": null,
   "metadata": {},
   "outputs": [],
   "source": [
    "df_melt[df_melt['Country Code'] == 'USA'].head(10)"
   ]
  },
  {
   "cell_type": "code",
   "execution_count": null,
   "metadata": {},
   "outputs": [],
   "source": [
    "# Use pivot_table to get a column per indicator\n",
    "df_pivot = pd.pivot_table(df_melt, values = 'Value', index=['Country Name','Country Code', 'Date'], columns = 'Indicator Name').reset_index()\n",
    "df_pivot[df_pivot['Country Code'] == 'USA'].head(10)"
   ]
  },
  {
   "cell_type": "code",
   "execution_count": null,
   "metadata": {},
   "outputs": [],
   "source": [
    "# Format values\n",
    "for col in ['GDP growth (annual %)',\n",
    "       'GDP per capita (current US$)', 'GDP per capita growth (annual %)',\n",
    "       'GINI index (World Bank estimate)',\n",
    "       'Population density (people per sq. km of land area)',\n",
    "       'Population growth (annual %)']:\n",
    "\n",
    "    df_pivot[col] = round(df_pivot[col],2)\n",
    "\n",
    "df_pivot['Population, total'] = df_pivot['Population, total'].astype('int', errors='ignore')"
   ]
  },
  {
   "cell_type": "code",
   "execution_count": null,
   "metadata": {},
   "outputs": [],
   "source": [
    "# Check output\n",
    "df_pivot[df_pivot['Country Code'] == 'USA'].head()\n",
    "\n",
    "# Need to fix Population, total column"
   ]
  },
  {
   "cell_type": "code",
   "execution_count": null,
   "metadata": {},
   "outputs": [],
   "source": [
    "# Fix columns name to match DB Scheme\n",
    "df_pivot.columns = [\n",
    "    'country', 'country_code', 'year', 'gdp_growth_annual', \n",
    "    'gdp_per_cap', 'gdp_per_cap_growth_annual', 'gini_index', \n",
    "    'pop_density', 'pop_growth_annual', 'pop_total']\n",
    "\n",
    "df_pivot.head()"
   ]
  },
  {
   "cell_type": "code",
   "execution_count": null,
   "metadata": {},
   "outputs": [],
   "source": []
  }
 ],
 "metadata": {
  "kernelspec": {
   "display_name": "Python 3",
   "language": "python",
   "name": "python3"
  },
  "language_info": {
   "codemirror_mode": {
    "name": "ipython",
    "version": 3
   },
   "file_extension": ".py",
   "mimetype": "text/x-python",
   "name": "python",
   "nbconvert_exporter": "python",
   "pygments_lexer": "ipython3",
   "version": "3.7.3"
  }
 },
 "nbformat": 4,
 "nbformat_minor": 2
}
